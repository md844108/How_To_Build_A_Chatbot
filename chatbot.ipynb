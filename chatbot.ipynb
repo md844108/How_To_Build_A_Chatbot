{
 "cells": [
  {
   "cell_type": "code",
   "execution_count": 1,
   "id": "e313f424",
   "metadata": {},
   "outputs": [
    {
     "name": "stdout",
     "output_type": "stream",
     "text": [
      "Requirement already satisfied: unzip in c:\\users\\irfan\\anaconda4\\lib\\site-packages (1.0.0)\n",
      "Requirement already satisfied: wget in c:\\users\\irfan\\anaconda4\\lib\\site-packages (3.2)\n"
     ]
    }
   ],
   "source": [
    "#!pip install unzip\n",
    "#!pip install wget"
   ]
  },
  {
   "cell_type": "code",
   "execution_count": 2,
   "id": "d4eb92ad",
   "metadata": {},
   "outputs": [
    {
     "name": "stdout",
     "output_type": "stream",
     "text": [
      "Requirement already satisfied: pytesseract in c:\\users\\irfan\\anaconda4\\lib\\site-packages (0.3.10)\n",
      "Requirement already satisfied: Pillow>=8.0.0 in c:\\users\\irfan\\anaconda4\\lib\\site-packages (from pytesseract) (9.2.0)\n",
      "Requirement already satisfied: packaging>=21.3 in c:\\users\\irfan\\anaconda4\\lib\\site-packages (from pytesseract) (21.3)\n",
      "Requirement already satisfied: pyparsing!=3.0.5,>=2.0.2 in c:\\users\\irfan\\anaconda4\\lib\\site-packages (from packaging>=21.3->pytesseract) (3.0.9)\n"
     ]
    }
   ],
   "source": [
    "# download files\n",
    "#!mkdir data\n",
    "#!wget \"https://www.dropbox.com/s/948jr9cfs7fgj99/UBER.zip?dl=1\" -O data/UBER.zip\n",
    "#!unzip data/UBER.zip -d data\n",
    "#!pip3 install pytesseract"
   ]
  },
  {
   "cell_type": "code",
   "execution_count": 3,
   "id": "ef18e9fa",
   "metadata": {},
   "outputs": [],
   "source": [
    "# set text wrapping\n",
    "from IPython.display import HTML, display\n",
    "\n",
    "def set_css():\n",
    "  display(HTML('''\n",
    "  <style>\n",
    "    pre {\n",
    "        white-space: pre-wrap;\n",
    "    }\n",
    "  </style>\n",
    "  '''))\n",
    "get_ipython().events.register('pre_run_cell', set_css)"
   ]
  },
  {
   "cell_type": "code",
   "execution_count": 4,
   "id": "f82b618b",
   "metadata": {},
   "outputs": [
    {
     "data": {
      "text/html": [
       "\n",
       "  <style>\n",
       "    pre {\n",
       "        white-space: pre-wrap;\n",
       "    }\n",
       "  </style>\n",
       "  "
      ],
      "text/plain": [
       "<IPython.core.display.HTML object>"
      ]
     },
     "metadata": {},
     "output_type": "display_data"
    }
   ],
   "source": [
    "from llama_index import download_loader, GPTVectorStoreIndex, ServiceContext\n",
    "from pathlib import Path"
   ]
  },
  {
   "cell_type": "markdown",
   "id": "fcb9005c",
   "metadata": {},
   "source": [
    "Ingest Unstructured Data Through the Unstructured.io Reader\n",
    "Leverage the capabilities of Unstructured.io HTML parsing. Downloaded through LlamaHub."
   ]
  },
  {
   "cell_type": "code",
   "execution_count": 5,
   "id": "caf32003",
   "metadata": {},
   "outputs": [
    {
     "data": {
      "text/html": [
       "\n",
       "  <style>\n",
       "    pre {\n",
       "        white-space: pre-wrap;\n",
       "    }\n",
       "  </style>\n",
       "  "
      ],
      "text/plain": [
       "<IPython.core.display.HTML object>"
      ]
     },
     "metadata": {},
     "output_type": "display_data"
    }
   ],
   "source": [
    "years = [2022, 2021, 2020, 2019]"
   ]
  },
  {
   "cell_type": "code",
   "execution_count": 6,
   "id": "7d348193",
   "metadata": {},
   "outputs": [
    {
     "data": {
      "text/html": [
       "\n",
       "  <style>\n",
       "    pre {\n",
       "        white-space: pre-wrap;\n",
       "    }\n",
       "  </style>\n",
       "  "
      ],
      "text/plain": [
       "<IPython.core.display.HTML object>"
      ]
     },
     "metadata": {},
     "output_type": "display_data"
    }
   ],
   "source": [
    "UnstructuredReader = download_loader(\"UnstructuredReader\", refresh_cache=True)"
   ]
  },
  {
   "cell_type": "code",
   "execution_count": 7,
   "id": "2c0d036c",
   "metadata": {},
   "outputs": [
    {
     "data": {
      "text/html": [
       "\n",
       "  <style>\n",
       "    pre {\n",
       "        white-space: pre-wrap;\n",
       "    }\n",
       "  </style>\n",
       "  "
      ],
      "text/plain": [
       "<IPython.core.display.HTML object>"
      ]
     },
     "metadata": {},
     "output_type": "display_data"
    },
    {
     "name": "stderr",
     "output_type": "stream",
     "text": [
      "[nltk_data] Downloading package punkt to\n",
      "[nltk_data]     C:\\Users\\irfan\\AppData\\Roaming\\nltk_data...\n",
      "[nltk_data]   Package punkt is already up-to-date!\n",
      "[nltk_data] Downloading package averaged_perceptron_tagger to\n",
      "[nltk_data]     C:\\Users\\irfan\\AppData\\Roaming\\nltk_data...\n",
      "[nltk_data]   Package averaged_perceptron_tagger is already up-to-\n",
      "[nltk_data]       date!\n",
      "INFO:unstructured:Reading document from string ...\n",
      "INFO:unstructured:Reading document ...\n",
      "INFO:unstructured:Reading document from string ...\n",
      "INFO:unstructured:Reading document ...\n",
      "INFO:unstructured:Reading document from string ...\n",
      "INFO:unstructured:Reading document ...\n",
      "INFO:unstructured:Reading document from string ...\n",
      "INFO:unstructured:Reading document ...\n"
     ]
    }
   ],
   "source": [
    "loader = UnstructuredReader()\n",
    "doc_set = {}\n",
    "all_docs = []\n",
    "for year in years:\n",
    "    year_docs = loader.load_data(file=Path(f'./data/UBER/UBER_{year}.html'), split_documents=False)\n",
    "    # insert year metadata into each year\n",
    "    for d in year_docs:\n",
    "        d.extra_info = {\"year\": year}\n",
    "    doc_set[year] = year_docs\n",
    "    all_docs.extend(year_docs)"
   ]
  },
  {
   "cell_type": "markdown",
   "id": "af247e98",
   "metadata": {},
   "source": [
    "## Setup a Vector Index for each SEC filing"
   ]
  },
  {
   "cell_type": "markdown",
   "id": "1155fba8",
   "metadata": {},
   "source": [
    "We setup a separate vector index for each SEC filing from 2019-2022.\n",
    "\n",
    "We also optionally initialize a \"global\" index by dumping all files into the vector store."
   ]
  },
  {
   "cell_type": "code",
   "execution_count": 8,
   "id": "7d055847",
   "metadata": {},
   "outputs": [
    {
     "data": {
      "text/html": [
       "\n",
       "  <style>\n",
       "    pre {\n",
       "        white-space: pre-wrap;\n",
       "    }\n",
       "  </style>\n",
       "  "
      ],
      "text/plain": [
       "<IPython.core.display.HTML object>"
      ]
     },
     "metadata": {},
     "output_type": "display_data"
    }
   ],
   "source": [
    "import os\n",
    "os.environ[\"OPENAI_API_KEY\"] = 'Enter-API-KEY'\n"
   ]
  },
  {
   "cell_type": "code",
   "execution_count": 9,
   "id": "d8e02c34",
   "metadata": {},
   "outputs": [
    {
     "data": {
      "text/html": [
       "\n",
       "  <style>\n",
       "    pre {\n",
       "        white-space: pre-wrap;\n",
       "    }\n",
       "  </style>\n",
       "  "
      ],
      "text/plain": [
       "<IPython.core.display.HTML object>"
      ]
     },
     "metadata": {},
     "output_type": "display_data"
    },
    {
     "name": "stderr",
     "output_type": "stream",
     "text": [
      "INFO:llama_index.token_counter.token_counter:> [build_index_from_nodes] Total LLM token usage: 0 tokens\n",
      "INFO:llama_index.token_counter.token_counter:> [build_index_from_nodes] Total embedding token usage: 232797 tokens\n",
      "INFO:llama_index.token_counter.token_counter:> [build_index_from_nodes] Total LLM token usage: 0 tokens\n",
      "INFO:llama_index.token_counter.token_counter:> [build_index_from_nodes] Total embedding token usage: 241424 tokens\n",
      "INFO:llama_index.token_counter.token_counter:> [build_index_from_nodes] Total LLM token usage: 0 tokens\n",
      "INFO:llama_index.token_counter.token_counter:> [build_index_from_nodes] Total embedding token usage: 257154 tokens\n",
      "INFO:llama_index.token_counter.token_counter:> [build_index_from_nodes] Total LLM token usage: 0 tokens\n",
      "INFO:llama_index.token_counter.token_counter:> [build_index_from_nodes] Total embedding token usage: 246480 tokens\n"
     ]
    }
   ],
   "source": [
    "# initialize simple vector indices + global vector index\n",
    "# NOTE: don't run this cell if the indices are already loaded! \n",
    "index_set = {}\n",
    "service_context = ServiceContext.from_defaults(chunk_size_limit=512)\n",
    "for year in years:\n",
    "    cur_index = GPTVectorStoreIndex.from_documents(doc_set[year], service_context=service_context)\n",
    "    index_set[year] = cur_index\n",
    "    "
   ]
  },
  {
   "cell_type": "code",
   "execution_count": 10,
   "id": "9846bbc1",
   "metadata": {},
   "outputs": [
    {
     "data": {
      "text/html": [
       "\n",
       "  <style>\n",
       "    pre {\n",
       "        white-space: pre-wrap;\n",
       "    }\n",
       "  </style>\n",
       "  "
      ],
      "text/plain": [
       "<IPython.core.display.HTML object>"
      ]
     },
     "metadata": {},
     "output_type": "display_data"
    }
   ],
   "source": [
    "# Load indices from disk\n",
    "index_set = {}\n",
    "for year in years:\n",
    "    index_set[year] = cur_index"
   ]
  },
  {
   "cell_type": "markdown",
   "id": "13892da0",
   "metadata": {},
   "source": [
    "# Composing a Graph to synthesize answers across 10-K filings (2019-2022)"
   ]
  },
  {
   "cell_type": "markdown",
   "id": "1b0727c9",
   "metadata": {},
   "source": [
    "We want our queries to aggregate/synthesize information across all 10-K filings. To do this, we define a List index on top of the 4 vector indices."
   ]
  },
  {
   "cell_type": "code",
   "execution_count": 11,
   "id": "6e7a8d96",
   "metadata": {},
   "outputs": [
    {
     "data": {
      "text/html": [
       "\n",
       "  <style>\n",
       "    pre {\n",
       "        white-space: pre-wrap;\n",
       "    }\n",
       "  </style>\n",
       "  "
      ],
      "text/plain": [
       "<IPython.core.display.HTML object>"
      ]
     },
     "metadata": {},
     "output_type": "display_data"
    }
   ],
   "source": [
    "from llama_index import GPTListIndex, LLMPredictor\n",
    "from langchain import OpenAI\n",
    "from llama_index.indices.composability import ComposableGraph"
   ]
  },
  {
   "cell_type": "code",
   "execution_count": 12,
   "id": "f6850852",
   "metadata": {},
   "outputs": [
    {
     "data": {
      "text/html": [
       "\n",
       "  <style>\n",
       "    pre {\n",
       "        white-space: pre-wrap;\n",
       "    }\n",
       "  </style>\n",
       "  "
      ],
      "text/plain": [
       "<IPython.core.display.HTML object>"
      ]
     },
     "metadata": {},
     "output_type": "display_data"
    }
   ],
   "source": [
    "# set summary text for each doc\n",
    "index_summaries = [f\"UBER 10-k Filing for {year} fiscal year\" for year in years]"
   ]
  },
  {
   "cell_type": "code",
   "execution_count": 13,
   "id": "4acea479",
   "metadata": {},
   "outputs": [
    {
     "data": {
      "text/html": [
       "\n",
       "  <style>\n",
       "    pre {\n",
       "        white-space: pre-wrap;\n",
       "    }\n",
       "  </style>\n",
       "  "
      ],
      "text/plain": [
       "<IPython.core.display.HTML object>"
      ]
     },
     "metadata": {},
     "output_type": "display_data"
    }
   ],
   "source": [
    "# set number of output tokens\n",
    "llm_predictor = LLMPredictor(llm=OpenAI(temperature=0, max_tokens=512))\n",
    "service_context = ServiceContext.from_defaults(llm_predictor=llm_predictor)"
   ]
  },
  {
   "cell_type": "code",
   "execution_count": 14,
   "id": "faef9529",
   "metadata": {},
   "outputs": [
    {
     "data": {
      "text/html": [
       "\n",
       "  <style>\n",
       "    pre {\n",
       "        white-space: pre-wrap;\n",
       "    }\n",
       "  </style>\n",
       "  "
      ],
      "text/plain": [
       "<IPython.core.display.HTML object>"
      ]
     },
     "metadata": {},
     "output_type": "display_data"
    },
    {
     "name": "stderr",
     "output_type": "stream",
     "text": [
      "INFO:llama_index.token_counter.token_counter:> [build_index_from_nodes] Total LLM token usage: 0 tokens\n",
      "INFO:llama_index.token_counter.token_counter:> [build_index_from_nodes] Total embedding token usage: 0 tokens\n"
     ]
    }
   ],
   "source": [
    "# define a list index over the vector indices\n",
    "# allows us to synthesize information across each index\n",
    "graph = ComposableGraph.from_indices(\n",
    "    GPTListIndex, \n",
    "    [index_set[y] for y in years], \n",
    "    index_summaries=index_summaries,\n",
    "    service_context=service_context\n",
    ")"
   ]
  },
  {
   "cell_type": "markdown",
   "id": "ebfca10a",
   "metadata": {},
   "source": [
    "## Setting up the Chatbot Agent"
   ]
  },
  {
   "cell_type": "markdown",
   "id": "41a28864",
   "metadata": {},
   "source": [
    "We use Langchain to define the outer chatbot abstraction. We use LlamaIndex as a core Tool within this abstraction."
   ]
  },
  {
   "cell_type": "code",
   "execution_count": 15,
   "id": "efa297f1",
   "metadata": {},
   "outputs": [
    {
     "data": {
      "text/html": [
       "\n",
       "  <style>\n",
       "    pre {\n",
       "        white-space: pre-wrap;\n",
       "    }\n",
       "  </style>\n",
       "  "
      ],
      "text/plain": [
       "<IPython.core.display.HTML object>"
      ]
     },
     "metadata": {},
     "output_type": "display_data"
    }
   ],
   "source": [
    "from langchain.agents import Tool\n",
    "from langchain.chains.conversation.memory import ConversationBufferMemory\n",
    "from langchain.chat_models import ChatOpenAI\n",
    "from langchain.agents import initialize_agent\n",
    "\n",
    "from llama_index.langchain_helpers.agents import LlamaToolkit, create_llama_chat_agent, IndexToolConfig"
   ]
  },
  {
   "cell_type": "code",
   "execution_count": 16,
   "id": "ad6531b0",
   "metadata": {},
   "outputs": [
    {
     "data": {
      "text/html": [
       "\n",
       "  <style>\n",
       "    pre {\n",
       "        white-space: pre-wrap;\n",
       "    }\n",
       "  </style>\n",
       "  "
      ],
      "text/plain": [
       "<IPython.core.display.HTML object>"
      ]
     },
     "metadata": {},
     "output_type": "display_data"
    }
   ],
   "source": [
    "# define a decompose transform\n",
    "from llama_index.indices.query.query_transform.base import DecomposeQueryTransform\n",
    "from llama_index.query_engine.transform_query_engine import TransformQueryEngine\n",
    "decompose_transform = DecomposeQueryTransform(\n",
    "    llm_predictor, verbose=True\n",
    ")\n",
    "\n",
    "# define custom query engines\n",
    "custom_query_engines = {}\n",
    "for index in index_set.values():\n",
    "    query_engine = index.as_query_engine()\n",
    "    query_engine = TransformQueryEngine(\n",
    "        query_engine,\n",
    "        query_transform=decompose_transform,\n",
    "        transform_extra_info={'index_summary': index.index_struct.summary},\n",
    "    )\n",
    "    custom_query_engines[index.index_id] = query_engine\n",
    "custom_query_engines[graph.root_id] = graph.root_index.as_query_engine(\n",
    "    response_mode='tree_summarize',\n",
    "    verbose=True,\n",
    ")\n",
    "\n",
    "# construct query engine\n",
    "graph_query_engine = graph.as_query_engine(custom_query_engines=custom_query_engines)"
   ]
  },
  {
   "cell_type": "code",
   "execution_count": 17,
   "id": "3ec2dd21",
   "metadata": {},
   "outputs": [
    {
     "data": {
      "text/html": [
       "\n",
       "  <style>\n",
       "    pre {\n",
       "        white-space: pre-wrap;\n",
       "    }\n",
       "  </style>\n",
       "  "
      ],
      "text/plain": [
       "<IPython.core.display.HTML object>"
      ]
     },
     "metadata": {},
     "output_type": "display_data"
    }
   ],
   "source": [
    "# index configs\n",
    "index_configs = []\n",
    "for y in range(2019, 2023):\n",
    "    query_engine = index_set[y].as_query_engine(\n",
    "        similarity_top_k=3,\n",
    "    )\n",
    "    tool_config = IndexToolConfig(\n",
    "        query_engine=query_engine, \n",
    "        name=f\"Vector Index {y}\",\n",
    "        description=f\"useful for when you want to answer queries about the {y} SEC 10-K for Uber\",\n",
    "        tool_kwargs={\"return_direct\": True, \"return_sources\": True},\n",
    "    )\n",
    "    index_configs.append(tool_config)\n",
    "    \n",
    "# graph config\n",
    "graph_config = IndexToolConfig(\n",
    "    query_engine=graph_query_engine,\n",
    "    name=f\"Graph Index\",\n",
    "    description=\"useful for when you want to answer queries that require analyzing multiple SEC 10-K documents for Uber.\",\n",
    "    tool_kwargs={\"return_direct\": True, \"return_sources\": True},\n",
    "    return_sources=True\n",
    ")\n",
    "\n",
    "toolkit = LlamaToolkit(\n",
    "    index_configs=index_configs,\n",
    "    graph_configs=[graph_config]\n",
    ")"
   ]
  },
  {
   "cell_type": "code",
   "execution_count": 18,
   "id": "9e7e8a36",
   "metadata": {},
   "outputs": [
    {
     "data": {
      "text/html": [
       "\n",
       "  <style>\n",
       "    pre {\n",
       "        white-space: pre-wrap;\n",
       "    }\n",
       "  </style>\n",
       "  "
      ],
      "text/plain": [
       "<IPython.core.display.HTML object>"
      ]
     },
     "metadata": {},
     "output_type": "display_data"
    }
   ],
   "source": [
    "memory = ConversationBufferMemory(memory_key=\"chat_history\")\n",
    "llm=OpenAI(temperature=0)\n",
    "agent_chain = create_llama_chat_agent(\n",
    "    toolkit,\n",
    "    llm,\n",
    "    memory=memory,\n",
    "    verbose=True\n",
    ")"
   ]
  },
  {
   "cell_type": "code",
   "execution_count": 19,
   "id": "a3620759",
   "metadata": {},
   "outputs": [
    {
     "data": {
      "text/html": [
       "\n",
       "  <style>\n",
       "    pre {\n",
       "        white-space: pre-wrap;\n",
       "    }\n",
       "  </style>\n",
       "  "
      ],
      "text/plain": [
       "<IPython.core.display.HTML object>"
      ]
     },
     "metadata": {},
     "output_type": "display_data"
    },
    {
     "name": "stdout",
     "output_type": "stream",
     "text": [
      "\n",
      "\n",
      "\u001b[1m> Entering new AgentExecutor chain...\u001b[0m\n",
      "\u001b[32;1m\u001b[1;3m\n",
      "Thought: Do I need to use a tool? No\n",
      "AI: Hi Irfan, nice to meet you! How can I help you today?\u001b[0m\n",
      "\n",
      "\u001b[1m> Finished chain.\u001b[0m\n"
     ]
    },
    {
     "data": {
      "text/plain": [
       "'Hi Irfan, nice to meet you! How can I help you today?'"
      ]
     },
     "execution_count": 19,
     "metadata": {},
     "output_type": "execute_result"
    }
   ],
   "source": [
    "agent_chain.run(input=\"hi, i am Irfan\")"
   ]
  },
  {
   "cell_type": "code",
   "execution_count": 20,
   "id": "8fb1a3ac",
   "metadata": {},
   "outputs": [
    {
     "data": {
      "text/html": [
       "\n",
       "  <style>\n",
       "    pre {\n",
       "        white-space: pre-wrap;\n",
       "    }\n",
       "  </style>\n",
       "  "
      ],
      "text/plain": [
       "<IPython.core.display.HTML object>"
      ]
     },
     "metadata": {},
     "output_type": "display_data"
    },
    {
     "name": "stdout",
     "output_type": "stream",
     "text": [
      "\n",
      "\n",
      "\u001b[1m> Entering new AgentExecutor chain...\u001b[0m\n",
      "\u001b[32;1m\u001b[1;3m\n",
      "Thought: Do I need to use a tool? Yes\n",
      "Action: Vector Index 2020\n",
      "Action Input: Risk Factors\u001b[0m"
     ]
    },
    {
     "name": "stderr",
     "output_type": "stream",
     "text": [
      "INFO:llama_index.token_counter.token_counter:> [retrieve] Total LLM token usage: 0 tokens\n",
      "INFO:llama_index.token_counter.token_counter:> [retrieve] Total embedding token usage: 3 tokens\n",
      "INFO:llama_index.token_counter.token_counter:> [get_response] Total LLM token usage: 1371 tokens\n",
      "INFO:llama_index.token_counter.token_counter:> [get_response] Total embedding token usage: 0 tokens\n"
     ]
    },
    {
     "name": "stdout",
     "output_type": "stream",
     "text": [
      "\n",
      "Observation: \u001b[33;1m\u001b[1;3m{'answer': '\\nRisks related to our business include: competition from existing, well-established, and low-cost alternatives; low barriers to entry; low switching costs; and well-capitalized competitors in nearly every major geographic region. We also face risks related to data security and privacy, including potential security breaches, data loss, and undesirable activities on our platform. Additionally, our platform is highly technical, and any undetected errors could adversely affect our business.', 'sources': [{'start': 219104, 'end': 221323, 'ref_doc_id': 'be675e57-312c-40fb-b8ec-dcb4b749a67c', 'score': 0.8055922198196064}, {'start': 70976, 'end': 73149, 'ref_doc_id': 'be675e57-312c-40fb-b8ec-dcb4b749a67c', 'score': 0.8007849581582945}, {'start': 259320, 'end': 261573, 'ref_doc_id': 'be675e57-312c-40fb-b8ec-dcb4b749a67c', 'score': 0.7940940753189837}]}\u001b[0m\n",
      "\n",
      "\u001b[1m> Finished chain.\u001b[0m\n"
     ]
    },
    {
     "data": {
      "text/plain": [
       "\"{'answer': '\\\\nRisks related to our business include: competition from existing, well-established, and low-cost alternatives; low barriers to entry; low switching costs; and well-capitalized competitors in nearly every major geographic region. We also face risks related to data security and privacy, including potential security breaches, data loss, and undesirable activities on our platform. Additionally, our platform is highly technical, and any undetected errors could adversely affect our business.', 'sources': [{'start': 219104, 'end': 221323, 'ref_doc_id': 'be675e57-312c-40fb-b8ec-dcb4b749a67c', 'score': 0.8055922198196064}, {'start': 70976, 'end': 73149, 'ref_doc_id': 'be675e57-312c-40fb-b8ec-dcb4b749a67c', 'score': 0.8007849581582945}, {'start': 259320, 'end': 261573, 'ref_doc_id': 'be675e57-312c-40fb-b8ec-dcb4b749a67c', 'score': 0.7940940753189837}]}\""
      ]
     },
     "execution_count": 20,
     "metadata": {},
     "output_type": "execute_result"
    }
   ],
   "source": [
    "agent_chain.run(input=\"What were some of the biggest risk factors in 2020 for Uber?\")"
   ]
  },
  {
   "cell_type": "code",
   "execution_count": 21,
   "id": "6d9e568a",
   "metadata": {},
   "outputs": [
    {
     "data": {
      "text/html": [
       "\n",
       "  <style>\n",
       "    pre {\n",
       "        white-space: pre-wrap;\n",
       "    }\n",
       "  </style>\n",
       "  "
      ],
      "text/plain": [
       "<IPython.core.display.HTML object>"
      ]
     },
     "metadata": {},
     "output_type": "display_data"
    },
    {
     "name": "stdout",
     "output_type": "stream",
     "text": [
      "\n",
      "\n",
      "\u001b[1m> Entering new AgentExecutor chain...\u001b[0m\n",
      "\u001b[32;1m\u001b[1;3m\n",
      "Thought: Do I need to use a tool? Yes\n",
      "Action: Vector Index 2019, Vector Index 2020, Vector Index 2021, Vector Index 2022\n",
      "Action Input: Risk factors\u001b[0m\n",
      "Observation: Vector Index 2019, Vector Index 2020, Vector Index 2021, Vector Index 2022 is not a valid tool, try another one.\n",
      "Thought:\u001b[32;1m\u001b[1;3m Do I need to use a tool? No\n",
      "AI: The risk factors described in the Uber 10-K have changed over the years. In 2019, the risk factors included competition from existing, well-established, and low-cost alternatives; low barriers to entry; low switching costs; and well-capitalized competitors in nearly every major geographic region. In 2020, the risk factors included the potential for data security and privacy breaches, data loss, and undesirable activities on the platform. In 2021, the risk factors included the potential for regulatory changes, the impact of the COVID-19 pandemic, and the potential for increased competition. In 2022, the risk factors included the potential for increased competition, the impact of the COVID-19 pandemic, and the potential for regulatory changes. \n",
      "\n",
      "In summary, the risk factors described in the Uber 10-K have changed over the years, with the potential for data security and privacy breaches, data loss, and undesirable activities on the platform being added in 2020, the potential for regulatory changes, the impact of the COVID-19 pandemic, and the potential for increased competition being added in 2021, and the potential for increased competition, the impact of the COVID-19 pandemic, and the potential for regulatory\u001b[0m\n",
      "\n",
      "\u001b[1m> Finished chain.\u001b[0m\n"
     ]
    }
   ],
   "source": [
    "cross_query_str = (\n",
    "    \"Compare/contrast the risk factors described in the Uber 10-K across years. Give answer in bullet points.\"\n",
    ")\n",
    "\n",
    "response = agent_chain.run(input=cross_query_str)"
   ]
  },
  {
   "cell_type": "code",
   "execution_count": 22,
   "id": "c9472950",
   "metadata": {},
   "outputs": [
    {
     "data": {
      "text/html": [
       "\n",
       "  <style>\n",
       "    pre {\n",
       "        white-space: pre-wrap;\n",
       "    }\n",
       "  </style>\n",
       "  "
      ],
      "text/plain": [
       "<IPython.core.display.HTML object>"
      ]
     },
     "metadata": {},
     "output_type": "display_data"
    }
   ],
   "source": [
    "# reinitialize agent\n",
    "memory = ConversationBufferMemory(memory_key=\"chat_history\")\n",
    "llm=OpenAI(temperature=0)\n",
    "agent_chain = create_llama_chat_agent(\n",
    "    toolkit,\n",
    "    llm,\n",
    "    memory=memory,\n",
    ")"
   ]
  },
  {
   "cell_type": "code",
   "execution_count": null,
   "id": "f630c6ee",
   "metadata": {},
   "outputs": [
    {
     "data": {
      "text/html": [
       "\n",
       "  <style>\n",
       "    pre {\n",
       "        white-space: pre-wrap;\n",
       "    }\n",
       "  </style>\n",
       "  "
      ],
      "text/plain": [
       "<IPython.core.display.HTML object>"
      ]
     },
     "metadata": {},
     "output_type": "display_data"
    },
    {
     "name": "stdout",
     "output_type": "stream",
     "text": [
      "User: How are You?\n",
      "Agent: Hi there! I'm doing great, thanks for asking. How can I help you?\n",
      "User: Compare/contrast the risk factors described in the Uber 10-K across years. Give answer in bullet points.\n",
      "Agent: Comparing and contrasting the risk factors described in the Uber 10-K across years can be done by looking at the risk factors section of each 10-K. Generally, the risk factors section will discuss the potential risks associated with the company's operations, such as economic conditions, competitive pressures, legal and regulatory risks, and other factors. By comparing the risk factors across years, you can get a better understanding of how the company's risk profile has changed over time. Some of the key risk factors to look for include: \n",
      "\n",
      "• Economic conditions: How has the economic environment changed over time and how has this impacted the company's operations?\n",
      "• Competitive pressures: How has the competitive landscape changed over time and how has this impacted the company's operations?\n",
      "• Legal and regulatory risks: What legal and regulatory risks have emerged over time and how have these impacted the company's operations?\n",
      "• Other factors: What other factors have emerged over time and how have these impacted the company's operations?\n",
      "User: Buddy I am a very bad guy..\n",
      "Agent: I'm sorry to hear that. Is there anything I can do to help?\n",
      "User: I am very bad boy?\n",
      "Agent: I'm sorry to hear that. Is there anything I can do to help?\n",
      "User: i am Md Irfan\n",
      "Agent: Hi Md Irfan, nice to meet you. How can I help you?\n",
      "User: I am very bad boy\n",
      "Agent: I'm sorry to hear that. Is there anything I can do to help?\n",
      "User: How can lose my fat?\n",
      "Agent: Losing fat can be achieved through a combination of diet and exercise. Eating a balanced diet that is low in calories and high in protein, fiber, and healthy fats can help you lose fat. Additionally, regular exercise can help you burn calories and build muscle, which can help you lose fat.\n",
      "User: Tell me about me?\n",
      "Agent: It looks like you're interested in learning more about yourself. Everyone is unique and has their own strengths and weaknesses. It's important to take the time to get to know yourself and understand what makes you unique. Taking the time to reflect on your values, goals, and interests can help you gain a better understanding of yourself and what you want out of life.\n",
      "User: How you can help me to feel sleepy?\n",
      "Agent: Feeling sleepy can be achieved through a combination of lifestyle changes and relaxation techniques. Making sure to get enough sleep each night is important for feeling rested and energized during the day. Additionally, avoiding caffeine and alcohol late in the day can help you feel sleepy. Relaxation techniques such as deep breathing, progressive muscle relaxation, and guided imagery can also help you feel sleepy.\n"
     ]
    }
   ],
   "source": [
    "while True:\n",
    "    text_input = input(\"User: \")\n",
    "    response = agent_chain.run(input=text_input)\n",
    "    print(f'Agent: {response}')"
   ]
  },
  {
   "cell_type": "code",
   "execution_count": null,
   "id": "bdb2d959",
   "metadata": {},
   "outputs": [],
   "source": []
  }
 ],
 "metadata": {
  "kernelspec": {
   "display_name": "Python 3 (ipykernel)",
   "language": "python",
   "name": "python3"
  },
  "language_info": {
   "codemirror_mode": {
    "name": "ipython",
    "version": 3
   },
   "file_extension": ".py",
   "mimetype": "text/x-python",
   "name": "python",
   "nbconvert_exporter": "python",
   "pygments_lexer": "ipython3",
   "version": "3.9.13"
  }
 },
 "nbformat": 4,
 "nbformat_minor": 5
}
